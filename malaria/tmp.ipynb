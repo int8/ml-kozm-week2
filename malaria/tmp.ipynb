{
 "cells": [
  {
   "cell_type": "code",
   "execution_count": 10,
   "id": "c22cd6f8-0716-4127-bcd6-fcfe0f228d17",
   "metadata": {},
   "outputs": [
    {
     "name": "stdout",
     "output_type": "stream",
     "text": [
      "/home/kamil/Downloads/plasmodium-phonecamera/train/plasmodium-phone-0079.xml\n",
      "/home/kamil/Downloads/plasmodium-phonecamera/train/plasmodium-phone-0024.xml\n",
      "/home/kamil/Downloads/plasmodium-phonecamera/train/plasmodium-phone-0179.xml\n",
      "/home/kamil/Downloads/plasmodium-phonecamera/train/plasmodium-phone-0742.xml\n",
      "/home/kamil/Downloads/plasmodium-phonecamera/train/plasmodium-phone-0235.xml\n",
      "/home/kamil/Downloads/plasmodium-phonecamera/train/plasmodium-phone-0303.xml\n",
      "/home/kamil/Downloads/plasmodium-phonecamera/train/plasmodium-phone-0637.xml\n",
      "/home/kamil/Downloads/plasmodium-phonecamera/train/plasmodium-phone-0322.xml\n",
      "/home/kamil/Downloads/plasmodium-phonecamera/train/plasmodium-phone-0973.xml\n",
      "/home/kamil/Downloads/plasmodium-phonecamera/train/plasmodium-phone-0948.xml\n",
      "/home/kamil/Downloads/plasmodium-phonecamera/train/plasmodium-phone-0611.xml\n",
      "/home/kamil/Downloads/plasmodium-phonecamera/train/plasmodium-phone-1073.xml\n",
      "/home/kamil/Downloads/plasmodium-phonecamera/train/plasmodium-phone-1178.xml\n",
      "/home/kamil/Downloads/plasmodium-phonecamera/train/plasmodium-phone-0523.xml\n",
      "/home/kamil/Downloads/plasmodium-phonecamera/train/plasmodium-phone-1048.xml\n",
      "/home/kamil/Downloads/plasmodium-phonecamera/train/plasmodium-phone-0056.xml\n",
      "/home/kamil/Downloads/plasmodium-phonecamera/train/plasmodium-phone-0602.xml\n",
      "/home/kamil/Downloads/plasmodium-phonecamera/train/plasmodium-phone-0790.xml\n",
      "/home/kamil/Downloads/plasmodium-phonecamera/train/plasmodium-phone-0535.xml\n",
      "/home/kamil/Downloads/plasmodium-phonecamera/train/plasmodium-phone-1013.xml\n",
      "/home/kamil/Downloads/plasmodium-phonecamera/train/plasmodium-phone-0733.xml\n",
      "/home/kamil/Downloads/plasmodium-phonecamera/train/plasmodium-phone-0092.xml\n",
      "/home/kamil/Downloads/plasmodium-phonecamera/train/plasmodium-phone-0238.xml\n",
      "/home/kamil/Downloads/plasmodium-phonecamera/train/plasmodium-phone-0753.xml\n",
      "/home/kamil/Downloads/plasmodium-phonecamera/train/plasmodium-phone-0860.xml\n",
      "/home/kamil/Downloads/plasmodium-phonecamera/train/plasmodium-phone-0971.xml\n",
      "/home/kamil/Downloads/plasmodium-phonecamera/train/plasmodium-phone-0764.xml\n",
      "/home/kamil/Downloads/plasmodium-phonecamera/train/plasmodium-phone-0977.xml\n",
      "/home/kamil/Downloads/plasmodium-phonecamera/train/plasmodium-phone-0701.xml\n",
      "/home/kamil/Downloads/plasmodium-phonecamera/train/plasmodium-phone-0103.xml\n",
      "/home/kamil/Downloads/plasmodium-phonecamera/train/plasmodium-phone-0795.xml\n",
      "/home/kamil/Downloads/plasmodium-phonecamera/train/plasmodium-phone-0298.xml\n",
      "/home/kamil/Downloads/plasmodium-phonecamera/train/plasmodium-phone-1126.xml\n",
      "/home/kamil/Downloads/plasmodium-phonecamera/train/plasmodium-phone-0965.xml\n",
      "/home/kamil/Downloads/plasmodium-phonecamera/train/plasmodium-phone-0877.xml\n",
      "/home/kamil/Downloads/plasmodium-phonecamera/train/plasmodium-phone-0845.xml\n",
      "/home/kamil/Downloads/plasmodium-phonecamera/train/plasmodium-phone-0635.xml\n",
      "/home/kamil/Downloads/plasmodium-phonecamera/train/plasmodium-phone-0236.xml\n",
      "/home/kamil/Downloads/plasmodium-phonecamera/train/plasmodium-phone-0340.xml\n",
      "/home/kamil/Downloads/plasmodium-phonecamera/train/plasmodium-phone-0423.xml\n",
      "/home/kamil/Downloads/plasmodium-phonecamera/train/plasmodium-phone-0393.xml\n",
      "/home/kamil/Downloads/plasmodium-phonecamera/train/plasmodium-phone-0474.xml\n",
      "/home/kamil/Downloads/plasmodium-phonecamera/train/plasmodium-phone-0975.xml\n",
      "/home/kamil/Downloads/plasmodium-phonecamera/train/plasmodium-phone-0035.xml\n",
      "/home/kamil/Downloads/plasmodium-phonecamera/train/plasmodium-phone-1105.xml\n",
      "/home/kamil/Downloads/plasmodium-phonecamera/train/plasmodium-phone-0891.xml\n",
      "/home/kamil/Downloads/plasmodium-phonecamera/train/plasmodium-phone-1086.xml\n",
      "/home/kamil/Downloads/plasmodium-phonecamera/train/plasmodium-phone-0409.xml\n",
      "/home/kamil/Downloads/plasmodium-phonecamera/train/plasmodium-phone-0175.xml\n",
      "/home/kamil/Downloads/plasmodium-phonecamera/train/plasmodium-phone-0731.xml\n",
      "/home/kamil/Downloads/plasmodium-phonecamera/train/plasmodium-phone-0953.xml\n"
     ]
    }
   ],
   "source": [
    "import os \n",
    "\n",
    "import xml.etree.ElementTree as ET\n",
    "for f in os.listdir(\"/home/kamil/Downloads/plasmodium-phonecamera/train/\"):\n",
    "    f_path = os.path.join(\"/home/kamil/Downloads/plasmodium-phonecamera/train/\", f)\n",
    "    if f_path.endswith(\".xml\"):\n",
    "        tree = ET.parse(f_path)\n",
    "        objects = tree.findall(\"object\")\n",
    "        if len(objects) == 1:\n",
    "            print(f_path)"
   ]
  },
  {
   "cell_type": "code",
   "execution_count": 12,
   "id": "08c0a436-b0a1-459e-9b3a-66bdeba46cb0",
   "metadata": {},
   "outputs": [
    {
     "name": "stdout",
     "output_type": "stream",
     "text": [
      "<annotation>\n",
      "\t<source>\n",
      "\t\t<database>Makerere Automated Lab Diagnostics Database</database>\n",
      "\t\t<annotation>Makerere University</annotation>\n",
      "\t\t<image>Mulago National Referral Hospital</image>\n",
      "\t</source>\n",
      "\t<segmented>0</segmented>\n",
      "\t<object>\n",
      "\t\t<label>plasmodium</label>\n",
      "\t\t<pose>Unspecified</pose>\n",
      "\t\t<truncated>0</truncated>\n",
      "\t\t<occluded>0</occluded>\n",
      "\t\t<bndbox>\n",
      "\t\t\t<xmin>144.6959</xmin>\n",
      "\t\t\t<ymin>440.5152</ymin>\n",
      "\t\t\t<xmax>184.6959</xmax>\n",
      "\t\t\t<ymax>480.5152</ymax>\n",
      "\t\t</bndbox>\n",
      "\t</object>\n",
      "</annotation>\n"
     ]
    }
   ],
   "source": [
    "!cat /home/kamil/Downloads/plasmodium-phonecamera/train/plasmodium-phone-0079.xml"
   ]
  },
  {
   "cell_type": "code",
   "execution_count": null,
   "id": "5465f2d1-0659-4334-a5d4-a95d03895fe9",
   "metadata": {},
   "outputs": [],
   "source": []
  }
 ],
 "metadata": {
  "kernelspec": {
   "display_name": "Python 3 (ipykernel)",
   "language": "python",
   "name": "python3"
  },
  "language_info": {
   "codemirror_mode": {
    "name": "ipython",
    "version": 3
   },
   "file_extension": ".py",
   "mimetype": "text/x-python",
   "name": "python",
   "nbconvert_exporter": "python",
   "pygments_lexer": "ipython3",
   "version": "3.8.10"
  }
 },
 "nbformat": 4,
 "nbformat_minor": 5
}
