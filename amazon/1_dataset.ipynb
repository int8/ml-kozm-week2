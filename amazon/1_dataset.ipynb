{
 "cells": [
  {
   "cell_type": "code",
   "execution_count": 1,
   "id": "0c4860e8-6519-4505-9735-175b28b0095a",
   "metadata": {},
   "outputs": [],
   "source": [
    "import pandas as pd \n",
    "TWOJ_KOD = None "
   ]
  },
  {
   "cell_type": "code",
   "execution_count": 2,
   "id": "8a7fae02-7e74-4c31-bc80-4b9e78b8f533",
   "metadata": {},
   "outputs": [],
   "source": [
    "df = pd.read_csv(\"/home/kamil/Downloads/amazon_small.csv\")"
   ]
  },
  {
   "cell_type": "code",
   "execution_count": 3,
   "id": "04599f94-dc42-414c-a26a-b2c4c6394c70",
   "metadata": {},
   "outputs": [],
   "source": [
    "# TODO: jakie kolumny ma nasz data frame ? "
   ]
  },
  {
   "cell_type": "code",
   "execution_count": 4,
   "id": "9d1a2338-0ea4-4098-978a-bceb9d9dc9af",
   "metadata": {},
   "outputs": [],
   "source": [
    "# TODO: jaki jest rozkład długości kolumny content "
   ]
  },
  {
   "cell_type": "code",
   "execution_count": 5,
   "id": "2f9b9344-f687-4356-805f-75244427ed6a",
   "metadata": {},
   "outputs": [],
   "source": [
    "# TODO: jaki jest rozkład kolumny label "
   ]
  },
  {
   "cell_type": "code",
   "execution_count": 6,
   "id": "cff67e5f-277a-4eda-9b3c-8c50d85cd7e2",
   "metadata": {},
   "outputs": [],
   "source": [
    "# TODO: rzućmy okiem na kilka przykładów pozytywnych i negatywnych reviews "
   ]
  }
 ],
 "metadata": {
  "kernelspec": {
   "display_name": "Python 3 (ipykernel)",
   "language": "python",
   "name": "python3"
  },
  "language_info": {
   "codemirror_mode": {
    "name": "ipython",
    "version": 3
   },
   "file_extension": ".py",
   "mimetype": "text/x-python",
   "name": "python",
   "nbconvert_exporter": "python",
   "pygments_lexer": "ipython3",
   "version": "3.8.10"
  }
 },
 "nbformat": 4,
 "nbformat_minor": 5
}
