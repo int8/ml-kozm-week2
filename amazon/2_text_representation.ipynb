{
 "cells": [
  {
   "cell_type": "code",
   "execution_count": 3,
   "id": "6aa462d3-7889-4f44-bbaf-9fb580461461",
   "metadata": {},
   "outputs": [],
   "source": [
    "TWOJ_KOD = None \n",
    "\n",
    "text_a = \"This book has really surprising plot.\"\n",
    "text_b = \"This TV series really follows the book's plot\"\n",
    "text_c = \"This TV series seems to follow the novel's story really well.\"\n",
    "text_d = \"I bought this shoes few weeks ago and I had to throw them away the next day.\"\n"
   ]
  },
  {
   "cell_type": "code",
   "execution_count": 4,
   "id": "5f074676-902a-45d2-8972-097a39f88335",
   "metadata": {},
   "outputs": [],
   "source": [
    "from sklearn.feature_extraction.text import CountVectorizer"
   ]
  },
  {
   "cell_type": "code",
   "execution_count": 6,
   "id": "8aa44034-699b-410d-a7a5-4f82abf89db1",
   "metadata": {},
   "outputs": [],
   "source": [
    "#TODO: użyj fit_transform by zwektoryzować tekst  "
   ]
  },
  {
   "cell_type": "code",
   "execution_count": 20,
   "id": "ff4cea94-5332-406e-bea7-b11e89aa3a77",
   "metadata": {},
   "outputs": [],
   "source": [
    "#TODO: użyj get_feature_names_out by zobaczyć znalezione \"feature'y\" "
   ]
  },
  {
   "cell_type": "code",
   "execution_count": 21,
   "id": "f2eed694-6574-4fb7-8c30-d2e4fe685b64",
   "metadata": {},
   "outputs": [],
   "source": [
    "#TODO: zobacz jak wyglądają nasze powyższe zdania zwektoryzowane i zinterpretuj je "
   ]
  },
  {
   "cell_type": "code",
   "execution_count": null,
   "id": "28918eb6-bb4e-4fff-9301-de1a69ac0a33",
   "metadata": {},
   "outputs": [],
   "source": [
    "from sentence_transformers import SentenceTransformer\n",
    "model = SentenceTransformer(\"all-MiniLM-L6-v2\");"
   ]
  },
  {
   "cell_type": "code",
   "execution_count": null,
   "id": "30bb8b79-69f3-4d26-948d-89de15331b53",
   "metadata": {},
   "outputs": [],
   "source": [
    "# TODO: użyj metody model.encode do wektoryzacji tekstu (embedding/zanurzenie)\n",
    "embedding_a = TWOJ_KOD\n",
    "embedding_b = TWOJ_KOD\n",
    "embedding_c = TWOJ_KOD\n",
    "embedding_d = TWOJ_KOD"
   ]
  },
  {
   "cell_type": "code",
   "execution_count": null,
   "id": "11b7f84b-4d34-452d-ab3d-0f4471052989",
   "metadata": {},
   "outputs": [],
   "source": [
    "import numpy as np \n",
    "# TODO: Jaką długość mają wektory reprezentujące nasze teksty [różnica między len() a np.linalg.norm]"
   ]
  },
  {
   "cell_type": "code",
   "execution_count": null,
   "id": "6e4058bd-7ea0-4391-b5dd-ec722b0cf885",
   "metadata": {},
   "outputs": [],
   "source": [
    "# TODO: użyj np.dot aby porównać \"podobieństwo\" wektorów reprezentujących różne zdania powyżej "
   ]
  }
 ],
 "metadata": {
  "kernelspec": {
   "display_name": "Python 3 (ipykernel)",
   "language": "python",
   "name": "python3"
  },
  "language_info": {
   "codemirror_mode": {
    "name": "ipython",
    "version": 3
   },
   "file_extension": ".py",
   "mimetype": "text/x-python",
   "name": "python",
   "nbconvert_exporter": "python",
   "pygments_lexer": "ipython3",
   "version": "3.8.10"
  }
 },
 "nbformat": 4,
 "nbformat_minor": 5
}
