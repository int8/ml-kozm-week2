{
 "cells": [
  {
   "cell_type": "code",
   "execution_count": 12,
   "id": "0ef26eef-ea7c-4869-9fa3-f594dab70ab4",
   "metadata": {},
   "outputs": [],
   "source": [
    "import cohere\n",
    "TWOJ_KOD = None \n",
    "api_key = \"YOUR_API_KEY\"\n",
    "co = cohere.Client(api_key)\n",
    "\n",
    "def get_embeddings(texts):\n",
    "    response = co.embed(\n",
    "      texts=texts,\n",
    "      model='embed-english-v3.0',\n",
    "      input_type='classification'\n",
    "    )\n",
    "    return response.embeddings "
   ]
  },
  {
   "cell_type": "code",
   "execution_count": 16,
   "id": "53d4d048-bc4a-4d04-af1a-64d278ef5b0f",
   "metadata": {},
   "outputs": [],
   "source": [
    "#TODO: wczytaj 100 pierwszych wierszy naszego dataframe'u\n",
    "import pandas as pd \n",
    "df = TWOJ_KOD\n",
    "assert len(df) == 100"
   ]
  },
  {
   "cell_type": "code",
   "execution_count": 21,
   "id": "3c9bbd05-50e5-4753-ac07-0824658dd5d0",
   "metadata": {},
   "outputs": [],
   "source": [
    "# TODO: zapisz df.content do listy \n",
    "texts = df.content.tolist()"
   ]
  },
  {
   "cell_type": "code",
   "execution_count": 22,
   "id": "768d2017-99db-4646-a51a-55cc3d3ee132",
   "metadata": {},
   "outputs": [],
   "source": [
    "embeddings = get_embeddings(texts)"
   ]
  },
  {
   "cell_type": "code",
   "execution_count": 24,
   "id": "8253dd21-7d04-4c0e-80be-c4858a1c1759",
   "metadata": {},
   "outputs": [],
   "source": [
    "# TODO: Upewnij się, że otrzymano 100 embeddingów "
   ]
  },
  {
   "cell_type": "code",
   "execution_count": 32,
   "id": "7ebc7888-be3f-4590-854c-7177a47a3afc",
   "metadata": {},
   "outputs": [],
   "source": [
    "import numpy as np \n",
    "# TODO: jaką długość ma nasz wektor oraz ile zawiera elementów"
   ]
  },
  {
   "cell_type": "code",
   "execution_count": 33,
   "id": "2f6a5d74-8fc7-453b-b59d-a36df1e15b95",
   "metadata": {},
   "outputs": [],
   "source": [
    "# TODO: wczytaj cały dataframe "
   ]
  },
  {
   "cell_type": "code",
   "execution_count": 34,
   "id": "c4ddc83b-0771-4b97-a8f5-ba1c0292eded",
   "metadata": {},
   "outputs": [],
   "source": [
    "df = pd.read_csv(\"amazon_small.csv\")\n"
   ]
  },
  {
   "cell_type": "code",
   "execution_count": 42,
   "id": "23edac2c-1ea1-4bc7-987a-0f01e09c79ea",
   "metadata": {},
   "outputs": [],
   "source": [
    "# Wczytaj wszystkie teksty do texts \n",
    "texts = df.content.tolist()\n",
    "assert len(texts) == len(df)"
   ]
  },
  {
   "cell_type": "code",
   "execution_count": 43,
   "id": "209b73c8-b414-46af-bbeb-0007cf8fb347",
   "metadata": {},
   "outputs": [],
   "source": [
    "# TODO: utwórz embeddingi dla każdego tekstu w naszym korpusie\n",
    "embeddings = get_embeddings(texts)\n",
    "df = df.assign(embeddings = embeddings)"
   ]
  },
  {
   "cell_type": "code",
   "execution_count": 46,
   "id": "b969529c-e955-49c5-adb8-63f1bcc88996",
   "metadata": {},
   "outputs": [],
   "source": [
    "# TODO: Zapisz df jako feather format amazon_with_embeddings.bin \n",
    "df.to_feather(\"amazon_with_embeddings.bin\")"
   ]
  },
  {
   "cell_type": "code",
   "execution_count": null,
   "id": "98921af1-fc26-43c6-a6a2-eb618bc85e1f",
   "metadata": {},
   "outputs": [],
   "source": []
  }
 ],
 "metadata": {
  "kernelspec": {
   "display_name": "Python 3 (ipykernel)",
   "language": "python",
   "name": "python3"
  },
  "language_info": {
   "codemirror_mode": {
    "name": "ipython",
    "version": 3
   },
   "file_extension": ".py",
   "mimetype": "text/x-python",
   "name": "python",
   "nbconvert_exporter": "python",
   "pygments_lexer": "ipython3",
   "version": "3.8.10"
  }
 },
 "nbformat": 4,
 "nbformat_minor": 5
}
