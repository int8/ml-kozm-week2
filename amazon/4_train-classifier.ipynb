{
 "cells": [
  {
   "cell_type": "code",
   "execution_count": null,
   "id": "78f26d71-b246-411a-9305-73f835eb7ff0",
   "metadata": {},
   "outputs": [],
   "source": [
    "import torch \n",
    "from torch import nn\n",
    "import numpy as np\n",
    "TWOJ_KOD = None \n",
    "# TODO: Zaprojektuj sieć neuronową która konsumuje wektory o długości 1024 (embeddingi) i zwraca binarną odpowiedź (sigmoid) \n",
    "# Pośrednie warstwy niech mają kolejno 150 i 15 neuronów a funkcjami aktywacji niech będzie nn.ReLU \n",
    "class ReviewClassifier(nn.Module):\n",
    "    def __init__(self):\n",
    "        super().__init__()        \n",
    "        self.mlp = nn.Sequential(\n",
    "            TWOJ_KOD \n",
    "        )\n",
    "    \n",
    "    def forward(self, x):        \n",
    "        return self.mlp(x)"
   ]
  },
  {
   "cell_type": "code",
   "execution_count": null,
   "id": "d1a43a10-7b58-4e69-a20c-4e0f91442279",
   "metadata": {},
   "outputs": [],
   "source": [
    "import pandas as pd \n",
    "#TODO: wczytaj zapisane dane z embeddingami \n",
    "df = TWOJ_KOD"
   ]
  },
  {
   "cell_type": "code",
   "execution_count": null,
   "id": "ccff75c1-29ad-44f8-9c22-20c8fc113978",
   "metadata": {},
   "outputs": [],
   "source": [
    "df = df.sample(frac=1.0)\n",
    "# TODO: Podziel dane na train, val, test (25k, 5k, reszta) \n",
    "train_df = TWOJ_KOD\n",
    "val_df = TWOJ_KOD\n",
    "test_df = TWOJ_KOD"
   ]
  },
  {
   "cell_type": "code",
   "execution_count": null,
   "id": "57a37fcc-312e-444c-bf9a-886f0cde45db",
   "metadata": {},
   "outputs": [],
   "source": [
    "from torchmetrics import Accuracy\n",
    "from tqdm.notebook import tqdm \n",
    "import numpy as np \n",
    "from torch.utils.tensorboard import SummaryWriter\n",
    "\n",
    "writer = SummaryWriter()\n",
    "model = ReviewClassifier()\n",
    "bce_loss = TWOJ_KOD # TODO: https://pytorch.org/docs/stable/generated/torch.nn.BCELoss.html\n",
    "\n",
    "batch_size = 128\n",
    "adam_optimizer = TWOJ_KOD #TODO: https://pytorch.org/docs/stable/generated/torch.optim.Adam.html [use lr=0.0005]\n",
    "nr_of_epochs = 20\n",
    "losses = []\n",
    "for epoch in tqdm(range(nr_of_epochs)):\n",
    "    # shuffle \n",
    "    train_df = train_df.sample(frac=1.0)\n",
    "    current_index = 0 \n",
    "    while current_index < len(train_df):        \n",
    "        batch_x = np.array(\n",
    "            train_df.embeddings[current_index:(current_index + batch_size)].tolist()\n",
    "        )\n",
    "        batch_y = np.array(\n",
    "            train_df.label[current_index: (current_index + batch_size)].tolist()\n",
    "        )\n",
    "        \n",
    "        tensor_batch_x = torch.Tensor(batch_x)\n",
    "        tensor_batch_y = torch.Tensor(batch_y).reshape(-1, 1)\n",
    "        \n",
    "        pred = model.forward(tensor_batch_x)\n",
    "        loss = bce_loss(pred, tensor_batch_y)\n",
    " \n",
    "        # Backpropagation\n",
    "        loss.backward() # Liczenie gradientu wag modelu\n",
    "        adam_optimizer.step() # adam oblicza nowe parametry sieci \n",
    "        adam_optimizer.zero_grad()\n",
    "        \n",
    "        current_index += batch_size\n",
    "        losses.append(float(loss.detach().numpy()))\n",
    "        \n",
    "    model.eval()\n",
    "    metric = Accuracy(task='BINARY')\n",
    "    for _, eval_row in tqdm(val_df.iterrows(), desc='evaluating'):\n",
    "        pred = model.forward(\n",
    "            torch.Tensor(np.array(eval_row.embeddings))\n",
    "        )\n",
    "        metric.update(pred, torch.Tensor([eval_row.label]))\n",
    "    metric_value = metric.compute()\n",
    "    writer.add_scalar('Accuracy/eval', metric_value, epoch)\n",
    "\n",
    "        "
   ]
  }
 ],
 "metadata": {
  "kernelspec": {
   "display_name": "Python 3 (ipykernel)",
   "language": "python",
   "name": "python3"
  },
  "language_info": {
   "codemirror_mode": {
    "name": "ipython",
    "version": 3
   },
   "file_extension": ".py",
   "mimetype": "text/x-python",
   "name": "python",
   "nbconvert_exporter": "python",
   "pygments_lexer": "ipython3",
   "version": "3.8.10"
  }
 },
 "nbformat": 4,
 "nbformat_minor": 5
}
