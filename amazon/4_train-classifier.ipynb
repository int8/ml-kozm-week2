{
 "cells": [
  {
   "cell_type": "code",
   "execution_count": 1,
   "id": "78f26d71-b246-411a-9305-73f835eb7ff0",
   "metadata": {},
   "outputs": [],
   "source": [
    "import torch \n",
    "from torch import nn\n",
    "\n",
    "class ReviewClassifier(nn.Module):\n",
    "    def __init__(self):\n",
    "        super().__init__()        \n",
    "        self.mlp = nn.Sequential(\n",
    "            nn.Linear(1024, 150),\n",
    "            nn.ReLU(),\n",
    "            nn.Linear(150, 15),\n",
    "            nn.ReLU(),\n",
    "            nn.Linear(15, 1),\n",
    "            nn.Sigmoid()\n",
    "        )\n",
    "    \n",
    "    def forward(self, x):        \n",
    "        return self.mlp(x)"
   ]
  },
  {
   "cell_type": "code",
   "execution_count": 2,
   "id": "d1a43a10-7b58-4e69-a20c-4e0f91442279",
   "metadata": {},
   "outputs": [],
   "source": [
    "import pandas as pd \n",
    "df = pd.read_feather(\"amazon_with_embeddings.bin\")"
   ]
  },
  {
   "cell_type": "code",
   "execution_count": 3,
   "id": "ccff75c1-29ad-44f8-9c22-20c8fc113978",
   "metadata": {},
   "outputs": [],
   "source": [
    "df = df.sample(frac=1.0)\n",
    "train_df = df[:25000]\n",
    "val_df = df[25000:30000]\n",
    "test_df = df[30000:]"
   ]
  },
  {
   "cell_type": "code",
   "execution_count": 5,
   "id": "57a37fcc-312e-444c-bf9a-886f0cde45db",
   "metadata": {},
   "outputs": [
    {
     "data": {
      "application/vnd.jupyter.widget-view+json": {
       "model_id": "3b3bfdf3155b4a8f8c2f9f3d7fafbae9",
       "version_major": 2,
       "version_minor": 0
      },
      "text/plain": [
       "  0%|          | 0/20 [00:00<?, ?it/s]"
      ]
     },
     "metadata": {},
     "output_type": "display_data"
    },
    {
     "ename": "NameError",
     "evalue": "name 'np' is not defined",
     "output_type": "error",
     "traceback": [
      "\u001b[0;31m---------------------------------------------------------------------------\u001b[0m",
      "\u001b[0;31mNameError\u001b[0m                                 Traceback (most recent call last)",
      "Cell \u001b[0;32mIn[5], line 17\u001b[0m\n\u001b[1;32m     15\u001b[0m current_index \u001b[38;5;241m=\u001b[39m \u001b[38;5;241m0\u001b[39m \n\u001b[1;32m     16\u001b[0m \u001b[38;5;28;01mwhile\u001b[39;00m current_index \u001b[38;5;241m<\u001b[39m \u001b[38;5;28mlen\u001b[39m(train_df):        \n\u001b[0;32m---> 17\u001b[0m     batch_x \u001b[38;5;241m=\u001b[39m \u001b[43mnp\u001b[49m\u001b[38;5;241m.\u001b[39marray(\n\u001b[1;32m     18\u001b[0m         train_df\u001b[38;5;241m.\u001b[39membeddings[current_index:(current_index \u001b[38;5;241m+\u001b[39m batch_size)]\u001b[38;5;241m.\u001b[39mtolist()\n\u001b[1;32m     19\u001b[0m     )\n\u001b[1;32m     20\u001b[0m     batch_y \u001b[38;5;241m=\u001b[39m np\u001b[38;5;241m.\u001b[39marray(\n\u001b[1;32m     21\u001b[0m         train_df\u001b[38;5;241m.\u001b[39mlabel[current_index: (current_index \u001b[38;5;241m+\u001b[39m batch_size)]\u001b[38;5;241m.\u001b[39mtolist()\n\u001b[1;32m     22\u001b[0m     )\n\u001b[1;32m     24\u001b[0m     tensor_batch_x \u001b[38;5;241m=\u001b[39m torch\u001b[38;5;241m.\u001b[39mTensor(batch_x)\n",
      "\u001b[0;31mNameError\u001b[0m: name 'np' is not defined"
     ]
    }
   ],
   "source": [
    "from torchmetrics import Accuracy\n",
    "from tqdm.notebook import tqdm \n",
    "import numpy as np \n",
    "from torch.utils.tensorboard import SummaryWriter\n",
    "\n",
    "writer = SummaryWriter()\n",
    "model = ReviewClassifier()\n",
    "bce_loss = nn.BCELoss() # TODO: https://pytorch.org/docs/stable/generated/torch.nn.BCELoss.html\n",
    "\n",
    "batch_size = 128\n",
    "adam_optimizer = torch.optim.Adam(model.parameters(), lr=0.0005) # None #TODO: https://pytorch.org/docs/stable/generated/torch.optim.Adam.html\n",
    "nr_of_epochs = 20\n",
    "losses = []\n",
    "for epoch in tqdm(range(nr_of_epochs)):\n",
    "    train_df = train_df.sample(frac=1.0)\n",
    "    current_index = 0 \n",
    "    while current_index < len(train_df):        \n",
    "        batch_x = np.array(\n",
    "            train_df.embeddings[current_index:(current_index + batch_size)].tolist()\n",
    "        )\n",
    "        batch_y = np.array(\n",
    "            train_df.label[current_index: (current_index + batch_size)].tolist()\n",
    "        )\n",
    "        \n",
    "        tensor_batch_x = torch.Tensor(batch_x)\n",
    "        tensor_batch_y = torch.Tensor(batch_y).reshape(-1, 1)\n",
    "        \n",
    "        pred = model.forward(tensor_batch_x)\n",
    "        loss = bce_loss(pred, tensor_batch_y)\n",
    " \n",
    "        # Backpropagation\n",
    "        loss.backward() # Liczenie gradientu wag modelu\n",
    "        adam_optimizer.step() # adam oblicza nowe parametry sieci \n",
    "        adam_optimizer.zero_grad()\n",
    "        \n",
    "        current_index += batch_size\n",
    "        losses.append(float(loss.detach().numpy()))\n",
    "        \n",
    "    model.eval()\n",
    "    metric = Accuracy(task='BINARY')\n",
    "    for _, eval_row in tqdm(val_df.iterrows(), desc='evaluating'):\n",
    "        pred = model.forward(\n",
    "            torch.Tensor(np.array(eval_row.embeddings))\n",
    "        )\n",
    "        metric.update(pred, torch.Tensor([eval_row.label]))\n",
    "    metric_value = metric.compute()\n",
    "    writer.add_scalar('Accuracy/eval', metric_value, epoch)\n",
    "\n",
    "        "
   ]
  },
  {
   "cell_type": "code",
   "execution_count": 29,
   "id": "a4fffbfd-6a05-4f13-a1c8-32529be34336",
   "metadata": {},
   "outputs": [],
   "source": [
    "from torchmetrics import Accuracy\n",
    "metric = Accuracy(task='BINARY')"
   ]
  },
  {
   "cell_type": "code",
   "execution_count": 34,
   "id": "691153a0-69d3-4673-b0e4-181567d2df2c",
   "metadata": {},
   "outputs": [
    {
     "data": {
      "text/plain": [
       "tensor([0.0046], grad_fn=<SigmoidBackward0>)"
      ]
     },
     "execution_count": 34,
     "metadata": {},
     "output_type": "execute_result"
    }
   ],
   "source": [
    "pred"
   ]
  },
  {
   "cell_type": "code",
   "execution_count": null,
   "id": "e3ed852a-9b20-4af9-ab4e-96c410ec155c",
   "metadata": {},
   "outputs": [],
   "source": []
  }
 ],
 "metadata": {
  "kernelspec": {
   "display_name": "Python 3 (ipykernel)",
   "language": "python",
   "name": "python3"
  },
  "language_info": {
   "codemirror_mode": {
    "name": "ipython",
    "version": 3
   },
   "file_extension": ".py",
   "mimetype": "text/x-python",
   "name": "python",
   "nbconvert_exporter": "python",
   "pygments_lexer": "ipython3",
   "version": "3.8.10"
  }
 },
 "nbformat": 4,
 "nbformat_minor": 5
}
