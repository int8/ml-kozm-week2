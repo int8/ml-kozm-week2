{
 "cells": [
  {
   "cell_type": "code",
   "execution_count": 1,
   "id": "0ef26eef-ea7c-4869-9fa3-f594dab70ab4",
   "metadata": {},
   "outputs": [],
   "source": [
    "import cohere\n",
    "TWOJ_KOD = None \n",
    "api_key = \"YOUR_API_KEY\"\n",
    "co = cohere.Client(api_key)\n",
    "\n",
    "def get_embeddings(texts):\n",
    "    response = co.embed(\n",
    "      texts=texts,\n",
    "      model='embed-english-v3.0',\n",
    "      input_type='classification'\n",
    "    )\n",
    "    return response.embeddings "
   ]
  },
  {
   "cell_type": "code",
   "execution_count": 4,
   "id": "53d4d048-bc4a-4d04-af1a-64d278ef5b0f",
   "metadata": {},
   "outputs": [],
   "source": [
    "#TODO: wczytaj 100 pierwszych wierszy naszego dataframe'u\n",
    "import pandas as pd \n",
    "df = pd.read_csv(\"../amazon.csv\", nrows=100)\n",
    "assert len(df) == 100"
   ]
  },
  {
   "cell_type": "code",
   "execution_count": 5,
   "id": "3c9bbd05-50e5-4753-ac07-0824658dd5d0",
   "metadata": {},
   "outputs": [],
   "source": [
    "# TODO: zapisz df.content do listy \n",
    "texts = df.content.tolist()"
   ]
  },
  {
   "cell_type": "code",
   "execution_count": 6,
   "id": "768d2017-99db-4646-a51a-55cc3d3ee132",
   "metadata": {},
   "outputs": [],
   "source": [
    "embeddings = get_embeddings(texts)"
   ]
  },
  {
   "cell_type": "code",
   "execution_count": 7,
   "id": "8253dd21-7d04-4c0e-80be-c4858a1c1759",
   "metadata": {},
   "outputs": [
    {
     "data": {
      "text/plain": [
       "100"
      ]
     },
     "execution_count": 7,
     "metadata": {},
     "output_type": "execute_result"
    }
   ],
   "source": [
    "# TODO: Upewnij się, że otrzymano 100 embeddingów \n",
    "len(embeddings)"
   ]
  },
  {
   "cell_type": "code",
   "execution_count": 8,
   "id": "7ebc7888-be3f-4590-854c-7177a47a3afc",
   "metadata": {},
   "outputs": [
    {
     "data": {
      "text/plain": [
       "1024"
      ]
     },
     "execution_count": 8,
     "metadata": {},
     "output_type": "execute_result"
    }
   ],
   "source": [
    "import numpy as np \n",
    "len(embeddings[0])\n",
    "\n",
    "# TODO: jaką długość ma nasz wektor oraz ile zawiera elementów"
   ]
  },
  {
   "cell_type": "code",
   "execution_count": 11,
   "id": "6cf43649-be71-4f02-aa69-dd44688c122c",
   "metadata": {},
   "outputs": [
    {
     "data": {
      "text/plain": [
       "1.000269963275111"
      ]
     },
     "execution_count": 11,
     "metadata": {},
     "output_type": "execute_result"
    }
   ],
   "source": [
    "np.linalg.norm(embeddings[5])"
   ]
  },
  {
   "cell_type": "code",
   "execution_count": 14,
   "id": "9943d0a6-ea2d-4a5b-a84a-3f90c3d66426",
   "metadata": {},
   "outputs": [],
   "source": [
    "max_value = 0. \n",
    "best_index = None\n",
    "for i, embed1 in enumerate(embeddings):\n",
    "    for j, embed2 in enumerate(embeddings):\n",
    "        if i != j:\n",
    "            current_value = np.dot(embed1, embed2)\n",
    "            if current_value > max_value:\n",
    "                max_value = current_value\n",
    "                best_index = (i,j)\n",
    "            \n",
    "            \n",
    "\n",
    "    "
   ]
  },
  {
   "cell_type": "code",
   "execution_count": 22,
   "id": "2f6a5d74-8fc7-453b-b59d-a36df1e15b95",
   "metadata": {},
   "outputs": [
    {
     "data": {
      "text/plain": [
       "((4, 5), 0.8095018520348594)"
      ]
     },
     "execution_count": 22,
     "metadata": {},
     "output_type": "execute_result"
    }
   ],
   "source": [
    "best_index, max_value"
   ]
  },
  {
   "cell_type": "code",
   "execution_count": 20,
   "id": "10961e8c-0d8e-41e3-85db-89970ae4eb1d",
   "metadata": {},
   "outputs": [
    {
     "data": {
      "text/plain": [
       "\"If you've played the game, you know how divine the music is! Every single song tells a story of the game, it's that good! The greatest songs are without a doubt, Chrono Cross: Time's Scar, Magical Dreamers: The Wind, The Stars, and the Sea and Radical Dreamers: Unstolen Jewel. (Translation varies) This music is perfect if you ask me, the best it can be. Yasunori Mitsuda just poured his heart on and wrote it down on paper.\""
      ]
     },
     "execution_count": 20,
     "metadata": {},
     "output_type": "execute_result"
    }
   ],
   "source": [
    "texts[4]"
   ]
  },
  {
   "cell_type": "code",
   "execution_count": 21,
   "id": "e599ed59-c5be-40dc-86c5-aca80e824f82",
   "metadata": {},
   "outputs": [
    {
     "data": {
      "text/plain": [
       "\"I am quite sure any of you actually taking the time to read this have played the game at least once, and heard at least a few of the tracks here. And whether you were aware of it or not, Mitsuda's music contributed greatly to the mood of every single minute of the whole game.Composed of 3 CDs and quite a few songs (I haven't an exact count), all of which are heart-rendering and impressively remarkable, this soundtrack is one I assure you you will not forget. It has everything for every listener -- from fast-paced and energetic (Dancing the Tokage or Termina Home), to slower and more haunting (Dragon God), to purely beautifully composed (Time's Scar), to even some fantastic vocals (Radical Dreamers).This is one of the best videogame soundtracks out there, and surely Mitsuda's best ever. ^_^\""
      ]
     },
     "execution_count": 21,
     "metadata": {},
     "output_type": "execute_result"
    }
   ],
   "source": [
    "texts[5]"
   ]
  },
  {
   "cell_type": "code",
   "execution_count": 24,
   "id": "c4ddc83b-0771-4b97-a8f5-ba1c0292eded",
   "metadata": {},
   "outputs": [],
   "source": [
    "df = pd.read_csv(\"../amazon.csv\")"
   ]
  },
  {
   "cell_type": "code",
   "execution_count": 25,
   "id": "23edac2c-1ea1-4bc7-987a-0f01e09c79ea",
   "metadata": {},
   "outputs": [],
   "source": [
    "# Wczytaj wszystkie teksty do texts \n",
    "texts = df.content.tolist()\n",
    "assert len(texts) == len(df)"
   ]
  },
  {
   "cell_type": "code",
   "execution_count": 27,
   "id": "209b73c8-b414-46af-bbeb-0007cf8fb347",
   "metadata": {},
   "outputs": [],
   "source": [
    "# # TODO: utwórz embeddingi dla każdego tekstu w naszym korpusie\n",
    "# embeddings = get_embeddings(texts)\n",
    "# df = df.assign(embeddings = embeddings)"
   ]
  },
  {
   "cell_type": "code",
   "execution_count": 28,
   "id": "b969529c-e955-49c5-adb8-63f1bcc88996",
   "metadata": {},
   "outputs": [],
   "source": [
    "# # TODO: Zapisz df jako feather format amazon_with_embeddings.bin \n",
    "# df.to_feather(\"amazon_with_embeddings.bin\")"
   ]
  },
  {
   "cell_type": "code",
   "execution_count": null,
   "id": "98921af1-fc26-43c6-a6a2-eb618bc85e1f",
   "metadata": {},
   "outputs": [],
   "source": []
  }
 ],
 "metadata": {
  "kernelspec": {
   "display_name": "Python 3 (ipykernel)",
   "language": "python",
   "name": "python3"
  },
  "language_info": {
   "codemirror_mode": {
    "name": "ipython",
    "version": 3
   },
   "file_extension": ".py",
   "mimetype": "text/x-python",
   "name": "python",
   "nbconvert_exporter": "python",
   "pygments_lexer": "ipython3",
   "version": "3.8.10"
  }
 },
 "nbformat": 4,
 "nbformat_minor": 5
}
