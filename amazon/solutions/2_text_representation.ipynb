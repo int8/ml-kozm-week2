{
 "cells": [
  {
   "cell_type": "code",
   "execution_count": 8,
   "id": "6aa462d3-7889-4f44-bbaf-9fb580461461",
   "metadata": {},
   "outputs": [],
   "source": [
    "TWOJ_KOD = None \n",
    "\n",
    "text_a = \"This book has really surprising plot.\"\n",
    "text_b = \"This TV series really follows the book's plot\"\n",
    "text_c = \"This TV series seems to follow the novel's story really well. The novel was amazing.\"\n",
    "text_d = \"I bought this shoes few weeks ago and I had to throw them away the next day.\"\n"
   ]
  },
  {
   "cell_type": "code",
   "execution_count": 9,
   "id": "5f074676-902a-45d2-8972-097a39f88335",
   "metadata": {},
   "outputs": [],
   "source": [
    "from sklearn.feature_extraction.text import CountVectorizer"
   ]
  },
  {
   "cell_type": "code",
   "execution_count": 10,
   "id": "89ca5c12-98b7-4679-ae24-ad65d8b7c8ee",
   "metadata": {},
   "outputs": [],
   "source": [
    "vectorizer = CountVectorizer()"
   ]
  },
  {
   "cell_type": "code",
   "execution_count": 11,
   "id": "51bd2e9d-0565-4e89-9abe-212693894cbf",
   "metadata": {},
   "outputs": [],
   "source": [
    "#TODO: użyj fit_transform by zwektoryzować tekst1B  \n",
    "corpus = [text_a, text_b, text_c, text_d]\n",
    "X = vectorizer.fit_transform(corpus)"
   ]
  },
  {
   "cell_type": "code",
   "execution_count": 12,
   "id": "8aa44034-699b-410d-a7a5-4f82abf89db1",
   "metadata": {},
   "outputs": [
    {
     "data": {
      "text/plain": [
       "array([[0, 0, 0, 0, 1, 0, 0, 0, 0, 0, 0, 1, 0, 0, 1, 1, 0, 0, 0, 0, 1, 0,\n",
       "        0, 1, 0, 0, 0, 0, 0, 0],\n",
       "       [0, 0, 0, 0, 1, 0, 0, 0, 0, 1, 0, 0, 0, 0, 1, 1, 0, 1, 0, 0, 0, 1,\n",
       "        0, 1, 0, 0, 1, 0, 0, 0],\n",
       "       [0, 1, 0, 0, 0, 0, 0, 0, 1, 0, 0, 0, 0, 2, 0, 1, 1, 1, 0, 1, 0, 2,\n",
       "        0, 1, 0, 1, 1, 1, 0, 1],\n",
       "       [1, 0, 1, 1, 0, 1, 1, 1, 0, 0, 1, 0, 1, 0, 0, 0, 0, 0, 1, 0, 0, 1,\n",
       "        1, 1, 1, 1, 0, 0, 1, 0]])"
      ]
     },
     "execution_count": 12,
     "metadata": {},
     "output_type": "execute_result"
    }
   ],
   "source": [
    "X.toarray()"
   ]
  },
  {
   "cell_type": "code",
   "execution_count": 13,
   "id": "ff4cea94-5332-406e-bea7-b11e89aa3a77",
   "metadata": {},
   "outputs": [
    {
     "data": {
      "text/plain": [
       "array(['ago', 'amazing', 'and', 'away', 'book', 'bought', 'day', 'few',\n",
       "       'follow', 'follows', 'had', 'has', 'next', 'novel', 'plot',\n",
       "       'really', 'seems', 'series', 'shoes', 'story', 'surprising', 'the',\n",
       "       'them', 'this', 'throw', 'to', 'tv', 'was', 'weeks', 'well'],\n",
       "      dtype=object)"
      ]
     },
     "execution_count": 13,
     "metadata": {},
     "output_type": "execute_result"
    }
   ],
   "source": [
    "vectorizer.get_feature_names_out()\n",
    "#TODO: użyj get_feature_names_out by zobaczyć znalezione \"feature'y\" "
   ]
  },
  {
   "cell_type": "code",
   "execution_count": 21,
   "id": "f2eed694-6574-4fb7-8c30-d2e4fe685b64",
   "metadata": {},
   "outputs": [],
   "source": [
    "#TODO: zobacz jak wyglądają nasze powyższe zdania zwektoryzowane i zinterpretuj je\n"
   ]
  },
  {
   "cell_type": "code",
   "execution_count": 18,
   "id": "28918eb6-bb4e-4fff-9301-de1a69ac0a33",
   "metadata": {},
   "outputs": [],
   "source": [
    "from sentence_transformers import SentenceTransformer\n",
    "model = SentenceTransformer(\"all-MiniLM-L6-v2\")"
   ]
  },
  {
   "cell_type": "code",
   "execution_count": 19,
   "id": "30bb8b79-69f3-4d26-948d-89de15331b53",
   "metadata": {},
   "outputs": [],
   "source": [
    "# TODO: użyj metody model.encode do wektoryzacji tekstu (embedding/zanurzenie)\n",
    "embedding_a = model.encode(text_a)\n",
    "embedding_b = model.encode(text_b)\n",
    "embedding_c = model.encode(text_c)\n",
    "embedding_d = model.encode(text_d)"
   ]
  },
  {
   "cell_type": "code",
   "execution_count": 22,
   "id": "9bcd6730-d957-4548-ba78-614c6e0c85af",
   "metadata": {},
   "outputs": [],
   "source": [
    "# model.encode([text_a] * 10000)"
   ]
  },
  {
   "cell_type": "code",
   "execution_count": 23,
   "id": "11b7f84b-4d34-452d-ab3d-0f4471052989",
   "metadata": {},
   "outputs": [
    {
     "data": {
      "text/plain": [
       "384"
      ]
     },
     "execution_count": 23,
     "metadata": {},
     "output_type": "execute_result"
    }
   ],
   "source": [
    "import numpy as np \n",
    "len(embedding_a)\n",
    "# TODO: Jaką długość mają wektory reprezentujące nasze teksty [różnica między len() a np.linalg.norm]"
   ]
  },
  {
   "cell_type": "code",
   "execution_count": 24,
   "id": "868e3d74-7fb5-4b52-b8c0-8b8a7616e084",
   "metadata": {},
   "outputs": [
    {
     "data": {
      "text/plain": [
       "0.99999994"
      ]
     },
     "execution_count": 24,
     "metadata": {},
     "output_type": "execute_result"
    }
   ],
   "source": [
    "np.linalg.norm(embedding_a)"
   ]
  },
  {
   "cell_type": "code",
   "execution_count": null,
   "id": "6e4058bd-7ea0-4391-b5dd-ec722b0cf885",
   "metadata": {},
   "outputs": [],
   "source": [
    "# TODO: użyj np.dot aby porównać \"podobieństwo\" wektorów reprezentujących różne zdania powyżej \n",
    "# możemy użyć np.dot dlatego że wektory z tego modelu sentence-transformer są już \"znormalizowane\" (mają długość/normę == 1) "
   ]
  },
  {
   "cell_type": "code",
   "execution_count": 25,
   "id": "6ab6c77b-e704-4108-9477-97b573ea1ad0",
   "metadata": {},
   "outputs": [
    {
     "data": {
      "text/plain": [
       "0.5868681"
      ]
     },
     "execution_count": 25,
     "metadata": {},
     "output_type": "execute_result"
    }
   ],
   "source": [
    "np.dot(embedding_a, embedding_b)"
   ]
  },
  {
   "cell_type": "code",
   "execution_count": 26,
   "id": "79738d18-c9fd-4807-ad5a-ef9709b670e1",
   "metadata": {},
   "outputs": [
    {
     "data": {
      "text/plain": [
       "0.05428587"
      ]
     },
     "execution_count": 26,
     "metadata": {},
     "output_type": "execute_result"
    }
   ],
   "source": [
    "np.dot(embedding_a, embedding_d)"
   ]
  },
  {
   "cell_type": "code",
   "execution_count": 28,
   "id": "7481cc6e-d680-41c6-a22c-c0cd852b105f",
   "metadata": {},
   "outputs": [
    {
     "data": {
      "text/plain": [
       "0.74075997"
      ]
     },
     "execution_count": 28,
     "metadata": {},
     "output_type": "execute_result"
    }
   ],
   "source": [
    "np.dot(embedding_b, embedding_c)"
   ]
  },
  {
   "cell_type": "code",
   "execution_count": null,
   "id": "cd1e04c8-b846-4fde-93a7-4ca82e6e011f",
   "metadata": {},
   "outputs": [],
   "source": []
  }
 ],
 "metadata": {
  "kernelspec": {
   "display_name": "Python 3 (ipykernel)",
   "language": "python",
   "name": "python3"
  },
  "language_info": {
   "codemirror_mode": {
    "name": "ipython",
    "version": 3
   },
   "file_extension": ".py",
   "mimetype": "text/x-python",
   "name": "python",
   "nbconvert_exporter": "python",
   "pygments_lexer": "ipython3",
   "version": "3.8.10"
  }
 },
 "nbformat": 4,
 "nbformat_minor": 5
}
