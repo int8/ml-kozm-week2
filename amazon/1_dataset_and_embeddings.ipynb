{
 "cells": [
  {
   "cell_type": "code",
   "execution_count": 1,
   "id": "0c4860e8-6519-4505-9735-175b28b0095a",
   "metadata": {},
   "outputs": [],
   "source": [
    "import pandas as pd \n",
    "TWOJ_KOD = None "
   ]
  },
  {
   "cell_type": "code",
   "execution_count": 2,
   "id": "8a7fae02-7e74-4c31-bc80-4b9e78b8f533",
   "metadata": {},
   "outputs": [],
   "source": [
    "df = pd.read_csv(\"/home/kamil/Downloads/amazon_small.csv\")"
   ]
  },
  {
   "cell_type": "code",
   "execution_count": 3,
   "id": "04599f94-dc42-414c-a26a-b2c4c6394c70",
   "metadata": {},
   "outputs": [],
   "source": [
    "# TODO: jakie kolumny ma nasz data frame ? "
   ]
  },
  {
   "cell_type": "code",
   "execution_count": 4,
   "id": "9d1a2338-0ea4-4098-978a-bceb9d9dc9af",
   "metadata": {},
   "outputs": [],
   "source": [
    "# TODO: jaki jest rozkład długości kolumny content "
   ]
  },
  {
   "cell_type": "code",
   "execution_count": 5,
   "id": "2f9b9344-f687-4356-805f-75244427ed6a",
   "metadata": {},
   "outputs": [],
   "source": [
    "# TODO: jaki jest rozkład kolumny label "
   ]
  },
  {
   "cell_type": "code",
   "execution_count": 6,
   "id": "cff67e5f-277a-4eda-9b3c-8c50d85cd7e2",
   "metadata": {},
   "outputs": [],
   "source": [
    "# TODO: rzućmy okiem na kilka przykładów pozytywnych i negatywnych reviews "
   ]
  },
  {
   "cell_type": "code",
   "execution_count": 41,
   "id": "e954c096-676d-4d7c-8815-b9c6c34a8d99",
   "metadata": {},
   "outputs": [],
   "source": [
    "from sentence_transformers import SentenceTransformer\n",
    "model = SentenceTransformer(\"all-MiniLM-L6-v2\");"
   ]
  },
  {
   "cell_type": "code",
   "execution_count": 32,
   "id": "d30de0b2-0fbd-415b-a199-491ef0164f7d",
   "metadata": {},
   "outputs": [],
   "source": [
    "text_a = \"This book has really surprising plot.\"\n",
    "text_b = \"This TV series really follows the book's plot\"\n",
    "text_c = \"This TV series seems to follow the novel's story really well.\"\n",
    "text_d = \"I bought this shoes few weeks ago and I already had to throw them away.\"\n",
    "\n",
    "# TODO: użyj metody model.encode do wektoryzacji tekstu (embedding/zanurzenie)\n",
    "embedding_a = TWOJ_KOD\n",
    "embedding_b = TWOJ_KOD\n",
    "embedding_c = TWOJ_KOD\n",
    "embedding_d = TWOJ_KOD"
   ]
  },
  {
   "cell_type": "code",
   "execution_count": 43,
   "id": "de562ff7-0544-471a-bf7f-7de6684570ae",
   "metadata": {},
   "outputs": [],
   "source": [
    "import numpy as np \n",
    "# TODO: Jaką długość mają wektory reprezentujące nasze teksty [różnica między len() a np.linalg.norm]"
   ]
  },
  {
   "cell_type": "code",
   "execution_count": 44,
   "id": "0fb43880-4bfb-4315-a32f-6b799f886645",
   "metadata": {},
   "outputs": [],
   "source": [
    "# TODO: użyj np.dot aby porównać \"podobieństwo\" wektorów reprezentujących różne zdania powyżej "
   ]
  },
  {
   "cell_type": "code",
   "execution_count": 45,
   "id": "3c9e498f-f53d-4a0e-8f0b-6bc91d949dee",
   "metadata": {},
   "outputs": [],
   "source": []
  },
  {
   "cell_type": "code",
   "execution_count": null,
   "id": "7d6ec208-e158-4889-a8d1-52925302f025",
   "metadata": {},
   "outputs": [],
   "source": []
  }
 ],
 "metadata": {
  "kernelspec": {
   "display_name": "Python 3 (ipykernel)",
   "language": "python",
   "name": "python3"
  },
  "language_info": {
   "codemirror_mode": {
    "name": "ipython",
    "version": 3
   },
   "file_extension": ".py",
   "mimetype": "text/x-python",
   "name": "python",
   "nbconvert_exporter": "python",
   "pygments_lexer": "ipython3",
   "version": "3.8.10"
  }
 },
 "nbformat": 4,
 "nbformat_minor": 5
}
